{
 "cells": [
  {
   "cell_type": "code",
   "execution_count": 31,
   "metadata": {},
   "outputs": [],
   "source": [
    "import geopandas as gpd\n",
    "import pandas as pd\n",
    "import os\n",
    "from shapely.geometry import Polygon, LineString, MultiLineString, Point, GeometryCollection\n",
    "pd.options.display.max_columns = 100"
   ]
  },
  {
   "cell_type": "code",
   "execution_count": 43,
   "metadata": {},
   "outputs": [],
   "source": [
    "#Assigning Path\n",
    "path_road = r'Z:\\Masterfile\\1. Shapefile\\5. Road\\1. All Road'\n",
    "path_poi = r'Z:\\Masterfile\\1. Shapefile\\4. POI'\n",
    "path_zmp = r'Z:\\000. Processing\\REGION I\\ZMP'"
   ]
  },
  {
   "cell_type": "code",
   "execution_count": 44,
   "metadata": {},
   "outputs": [],
   "source": [
    "#Preparing and Reading Files\n",
    "poi = gpd.read_file(os.path.join(path_poi, 'poi_priority.gpkg'))\n",
    "road = gpd.read_file(os.path.join(path_road, 'Road_With_Characteristics.gpkg'))\n",
    "zmp = gpd.read_file(os.path.join(path_zmp, 'ID_ZMP_MASTERFILE_REGION_I.shp'))"
   ]
  },
  {
   "cell_type": "code",
   "execution_count": 48,
   "metadata": {},
   "outputs": [],
   "source": [
    "#Changing Prjection and creating road length\n",
    "zmp = zmp.to_crs(epsg = 4326)\n",
    "road = road.to_crs(epsg = 32748)\n",
    "road['length'] = road.length\n",
    "road = road.to_crs(epsg = 4326)"
   ]
  },
  {
   "attachments": {},
   "cell_type": "markdown",
   "metadata": {},
   "source": [
    "# ZMP Category"
   ]
  },
  {
   "cell_type": "code",
   "execution_count": 5,
   "metadata": {},
   "outputs": [],
   "source": [
    "#Changing Projection\n",
    "zmp = zmp.to_crs(epsg = 4326)"
   ]
  },
  {
   "cell_type": "code",
   "execution_count": 18,
   "metadata": {},
   "outputs": [],
   "source": [
    "#Join zmp with road\n",
    "zmp_road = gpd.sjoin(road, zmp, how = 'right', predicate = 'intersects')"
   ]
  },
  {
   "cell_type": "code",
   "execution_count": 25,
   "metadata": {},
   "outputs": [],
   "source": [
    "#Creating rank\n",
    "zmp_road['rank'] = zmp_road.groupby(['ZMP_CODE'])['length'].rank(ascending = False)"
   ]
  },
  {
   "cell_type": "code",
   "execution_count": 33,
   "metadata": {},
   "outputs": [],
   "source": [
    "#Filter by ZMP Rank\n",
    "zmp_road = zmp_road[zmp_road['rank']==1]"
   ]
  },
  {
   "cell_type": "code",
   "execution_count": 46,
   "metadata": {},
   "outputs": [
    {
     "name": "stderr",
     "output_type": "stream",
     "text": [
      "c:\\Users\\User\\anaconda3\\envs\\geo_env\\lib\\site-packages\\geopandas\\geodataframe.py:1472: SettingWithCopyWarning: \n",
      "A value is trying to be set on a copy of a slice from a DataFrame.\n",
      "Try using .loc[row_indexer,col_indexer] = value instead\n",
      "\n",
      "See the caveats in the documentation: https://pandas.pydata.org/pandas-docs/stable/user_guide/indexing.html#returning-a-view-versus-a-copy\n",
      "  super().__setitem__(key, value)\n"
     ]
    }
   ],
   "source": [
    "#Applying ZMP Category\n",
    "def zmp_cat(a):\n",
    "    if a=='>5 m':\n",
    "        return 'ZMP Commercial'\n",
    "    else:\n",
    "        return 'ZMP Non Commercial'\n",
    "zmp_road['zmp_category'] = zmp_road['Perkiraan Luas'].apply(lambda x: zmp_cat(x))\n",
    "zmp_road = zmp_road[['ZMP_CODE','zmp_category']]"
   ]
  },
  {
   "attachments": {},
   "cell_type": "markdown",
   "metadata": {},
   "source": [
    "# ZMP With POI Class"
   ]
  },
  {
   "cell_type": "code",
   "execution_count": 49,
   "metadata": {},
   "outputs": [],
   "source": [
    "#Merging ZMP with POI\n",
    "zmp_join = gpd.sjoin(poi, zmp, how = 'right', predicate='intersects')"
   ]
  },
  {
   "cell_type": "code",
   "execution_count": 51,
   "metadata": {},
   "outputs": [
    {
     "data": {
      "text/html": [
       "<div>\n",
       "<style scoped>\n",
       "    .dataframe tbody tr th:only-of-type {\n",
       "        vertical-align: middle;\n",
       "    }\n",
       "\n",
       "    .dataframe tbody tr th {\n",
       "        vertical-align: top;\n",
       "    }\n",
       "\n",
       "    .dataframe thead th {\n",
       "        text-align: right;\n",
       "    }\n",
       "</style>\n",
       "<table border=\"1\" class=\"dataframe\">\n",
       "  <thead>\n",
       "    <tr style=\"text-align: right;\">\n",
       "      <th>POI_Class</th>\n",
       "      <th>ZMP_CODE</th>\n",
       "      <th>Apartment</th>\n",
       "      <th>CVS</th>\n",
       "      <th>Community Based</th>\n",
       "      <th>Eatery</th>\n",
       "      <th>Education</th>\n",
       "      <th>Finance</th>\n",
       "      <th>Gov</th>\n",
       "      <th>Health Center</th>\n",
       "      <th>Pariwisata</th>\n",
       "      <th>Religion</th>\n",
       "      <th>School</th>\n",
       "      <th>Supermarket</th>\n",
       "      <th>Traditional Market</th>\n",
       "      <th>Transportation</th>\n",
       "      <th>Workshop</th>\n",
       "    </tr>\n",
       "  </thead>\n",
       "  <tbody>\n",
       "    <tr>\n",
       "      <th>0</th>\n",
       "      <td>3171010_001</td>\n",
       "      <td>0.0</td>\n",
       "      <td>2.0</td>\n",
       "      <td>0.0</td>\n",
       "      <td>1.0</td>\n",
       "      <td>0.0</td>\n",
       "      <td>0.0</td>\n",
       "      <td>0.0</td>\n",
       "      <td>0.0</td>\n",
       "      <td>0.0</td>\n",
       "      <td>0.0</td>\n",
       "      <td>0.0</td>\n",
       "      <td>0.0</td>\n",
       "      <td>0.0</td>\n",
       "      <td>0.0</td>\n",
       "      <td>0.0</td>\n",
       "    </tr>\n",
       "    <tr>\n",
       "      <th>1</th>\n",
       "      <td>3171010_002</td>\n",
       "      <td>0.0</td>\n",
       "      <td>1.0</td>\n",
       "      <td>0.0</td>\n",
       "      <td>0.0</td>\n",
       "      <td>0.0</td>\n",
       "      <td>0.0</td>\n",
       "      <td>0.0</td>\n",
       "      <td>0.0</td>\n",
       "      <td>0.0</td>\n",
       "      <td>0.0</td>\n",
       "      <td>0.0</td>\n",
       "      <td>0.0</td>\n",
       "      <td>0.0</td>\n",
       "      <td>0.0</td>\n",
       "      <td>0.0</td>\n",
       "    </tr>\n",
       "    <tr>\n",
       "      <th>2</th>\n",
       "      <td>3171010_003</td>\n",
       "      <td>0.0</td>\n",
       "      <td>1.0</td>\n",
       "      <td>0.0</td>\n",
       "      <td>0.0</td>\n",
       "      <td>0.0</td>\n",
       "      <td>0.0</td>\n",
       "      <td>0.0</td>\n",
       "      <td>0.0</td>\n",
       "      <td>0.0</td>\n",
       "      <td>0.0</td>\n",
       "      <td>0.0</td>\n",
       "      <td>0.0</td>\n",
       "      <td>0.0</td>\n",
       "      <td>0.0</td>\n",
       "      <td>0.0</td>\n",
       "    </tr>\n",
       "    <tr>\n",
       "      <th>3</th>\n",
       "      <td>3171010_004</td>\n",
       "      <td>0.0</td>\n",
       "      <td>2.0</td>\n",
       "      <td>0.0</td>\n",
       "      <td>0.0</td>\n",
       "      <td>0.0</td>\n",
       "      <td>0.0</td>\n",
       "      <td>0.0</td>\n",
       "      <td>0.0</td>\n",
       "      <td>0.0</td>\n",
       "      <td>0.0</td>\n",
       "      <td>0.0</td>\n",
       "      <td>0.0</td>\n",
       "      <td>0.0</td>\n",
       "      <td>0.0</td>\n",
       "      <td>0.0</td>\n",
       "    </tr>\n",
       "    <tr>\n",
       "      <th>4</th>\n",
       "      <td>3171010_005</td>\n",
       "      <td>0.0</td>\n",
       "      <td>4.0</td>\n",
       "      <td>0.0</td>\n",
       "      <td>0.0</td>\n",
       "      <td>1.0</td>\n",
       "      <td>0.0</td>\n",
       "      <td>0.0</td>\n",
       "      <td>1.0</td>\n",
       "      <td>0.0</td>\n",
       "      <td>0.0</td>\n",
       "      <td>1.0</td>\n",
       "      <td>0.0</td>\n",
       "      <td>0.0</td>\n",
       "      <td>0.0</td>\n",
       "      <td>0.0</td>\n",
       "    </tr>\n",
       "  </tbody>\n",
       "</table>\n",
       "</div>"
      ],
      "text/plain": [
       "POI_Class     ZMP_CODE  Apartment  CVS  Community Based  Eatery  Education  \\\n",
       "0          3171010_001        0.0  2.0              0.0     1.0        0.0   \n",
       "1          3171010_002        0.0  1.0              0.0     0.0        0.0   \n",
       "2          3171010_003        0.0  1.0              0.0     0.0        0.0   \n",
       "3          3171010_004        0.0  2.0              0.0     0.0        0.0   \n",
       "4          3171010_005        0.0  4.0              0.0     0.0        1.0   \n",
       "\n",
       "POI_Class  Finance  Gov  Health Center  Pariwisata  Religion  School  \\\n",
       "0              0.0  0.0            0.0         0.0       0.0     0.0   \n",
       "1              0.0  0.0            0.0         0.0       0.0     0.0   \n",
       "2              0.0  0.0            0.0         0.0       0.0     0.0   \n",
       "3              0.0  0.0            0.0         0.0       0.0     0.0   \n",
       "4              0.0  0.0            1.0         0.0       0.0     1.0   \n",
       "\n",
       "POI_Class  Supermarket  Traditional Market  Transportation  Workshop  \n",
       "0                  0.0                 0.0             0.0       0.0  \n",
       "1                  0.0                 0.0             0.0       0.0  \n",
       "2                  0.0                 0.0             0.0       0.0  \n",
       "3                  0.0                 0.0             0.0       0.0  \n",
       "4                  0.0                 0.0             0.0       0.0  "
      ]
     },
     "execution_count": 51,
     "metadata": {},
     "output_type": "execute_result"
    }
   ],
   "source": [
    "# Create ZMP Summary with POI Class\n",
    "zmp_dissolve = zmp_join.pivot_table(index = 'ZMP_CODE', values = 'Sub_Class', columns='POI_Class', aggfunc='count').reset_index().fillna(0)"
   ]
  },
  {
   "cell_type": "code",
   "execution_count": 53,
   "metadata": {},
   "outputs": [
    {
     "data": {
      "text/plain": [
       "Index(['OBJECTID_1', 'OBJECTID_2', 'OBJECTID', 'CEN_LNG', 'CEN_LAT',\n",
       "       'GOOGLE_MAP', 'PROVINCE', 'KECAMATAN', 'CITY', 'ZMP_CODE', 'ZMP_NAME',\n",
       "       'zmp_area_s', 'adjusted_m', 'prioritize', 'app_area_n', 'app_area_i',\n",
       "       'landmark', 'Score_UID', 'Score_Spen', 'Score_Visi', 'Score_Velo',\n",
       "       'delta_time', 'count_uid', 'average_sp', 'total_velo', 'total_visi',\n",
       "       'average_ve', 'average_vi', 'av_visit_1', 'score_vi_1', 'POI_Gov',\n",
       "       'POI_CVS', 'POI_Transp', 'POI_School', 'POI_Market', 'POI_Religi',\n",
       "       'POI_Eatery', 'POI_Health', 'Score_POI', 'Population', 'Regional_I',\n",
       "       'City_Type', 'Score_City', 'Editor_PIC', 'layer', 'path', 'Source',\n",
       "       'Shape_Leng', 'Shape_Le_1', 'Shape_Area', 'geometry', 'zmp_category',\n",
       "       'Apartment', 'CVS', 'Community Based', 'Eatery', 'Education', 'Finance',\n",
       "       'Gov', 'Health Center', 'Pariwisata', 'Religion', 'School',\n",
       "       'Supermarket', 'Traditional Market', 'Transportation', 'Workshop'],\n",
       "      dtype='object')"
      ]
     },
     "execution_count": 53,
     "metadata": {},
     "output_type": "execute_result"
    }
   ],
   "source": [
    "zmp_final.columns"
   ]
  },
  {
   "cell_type": "code",
   "execution_count": 58,
   "metadata": {},
   "outputs": [],
   "source": [
    "#Finalizing ZMP\n",
    "zmp_final = zmp.merge(zmp_road, how = 'left', on = 'ZMP_CODE').merge(zmp_dissolve, how ='left', on = 'ZMP_CODE')\n",
    "zmp_final = zmp_final[['PROVINCE', 'KECAMATAN', 'CITY', 'ZMP_CODE', 'ZMP_NAME','zmp_category',\n",
    "       'Apartment', 'CVS', 'Community Based', 'Eatery', 'Education', 'Finance',\n",
    "       'Gov', 'Health Center', 'Pariwisata', 'Religion', 'School',\n",
    "       'Supermarket', 'Traditional Market', 'Transportation', 'Workshop','geometry']]\n",
    "zmp_final.to_file(r'Z:\\Masterfile\\1. Shapefile\\8. ZMP\\zmp_masterfile.gpkg')"
   ]
  }
 ],
 "metadata": {
  "kernelspec": {
   "display_name": "geo_env",
   "language": "python",
   "name": "python3"
  },
  "language_info": {
   "codemirror_mode": {
    "name": "ipython",
    "version": 3
   },
   "file_extension": ".py",
   "mimetype": "text/x-python",
   "name": "python",
   "nbconvert_exporter": "python",
   "pygments_lexer": "ipython3",
   "version": "3.10.6"
  },
  "orig_nbformat": 4
 },
 "nbformat": 4,
 "nbformat_minor": 2
}
