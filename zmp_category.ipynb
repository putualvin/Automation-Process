{
 "cells": [
  {
   "cell_type": "code",
   "execution_count": 36,
   "metadata": {},
   "outputs": [],
   "source": [
    "import geopandas as gpd\n",
    "import pandas as pd\n",
    "import os\n",
    "from shapely.geometry import Polygon, LineString, MultiLineString, Point, GeometryCollection\n",
    "pd.options.display.max_columns = 100\n",
    "import pygeos"
   ]
  },
  {
   "cell_type": "code",
   "execution_count": 37,
   "metadata": {},
   "outputs": [],
   "source": [
    "#Assigning Path\n",
    "path_road = r'Z:\\Masterfile\\1. Shapefile\\5. Road\\1. All Road'\n",
    "path_poi = r'Z:\\Masterfile\\1. Shapefile\\4. POI'\n",
    "path_zmp = r'Z:\\000. Processing\\REGION I\\ZMP'"
   ]
  },
  {
   "cell_type": "code",
   "execution_count": 38,
   "metadata": {},
   "outputs": [],
   "source": [
    "#Preparing and Reading Files\n",
    "poi = gpd.read_file(os.path.join(path_poi, 'poi_priority.gpkg'))\n",
    "road = gpd.read_file(os.path.join(path_road, 'Road_With_Characteristics.gpkg'))\n",
    "zmp = gpd.read_file(os.path.join(path_zmp, 'ID_ZMP_MASTERFILE_REGION_I.shp'))"
   ]
  },
  {
   "cell_type": "code",
   "execution_count": 39,
   "metadata": {},
   "outputs": [],
   "source": [
    "#Changing Prjection and creating road length\n",
    "zmp = zmp.to_crs(epsg = 4326)\n",
    "# road = road.to_crs(epsg = 32748)\n",
    "# road['length'] = road.length\n",
    "# road = road.to_crs(epsg = 4326)"
   ]
  },
  {
   "cell_type": "code",
   "execution_count": 40,
   "metadata": {},
   "outputs": [],
   "source": [
    "# #Changing Projection\n",
    "# zmp = zmp.to_crs(epsg = 4326)\n",
    "# #Join zmp with road\n",
    "# zmp_road = gpd.sjoin(road, zmp, how = 'right', predicate = 'intersects')\n",
    "# #Creating rank\n",
    "# zmp_road['rank'] = zmp_road.groupby(['ZMP_CODE'])['length'].rank(ascending = False)\n",
    "# #Applying ZMP Category\n",
    "# def zmp_cat(a):\n",
    "#     if a=='>5 m':\n",
    "#         return 'ZMP Commercial'\n",
    "#     else:\n",
    "#         return 'ZMP Non Commercial'\n",
    "# zmp_road['zmp_category'] = zmp_road['Perkiraan Luas'].apply(lambda x: zmp_cat(x))\n",
    "# zmp_road = zmp_road[['ZMP_CODE','zmp_category']]"
   ]
  },
  {
   "attachments": {},
   "cell_type": "markdown",
   "metadata": {},
   "source": [
    "# ZMP With POI Class"
   ]
  },
  {
   "cell_type": "code",
   "execution_count": 41,
   "metadata": {},
   "outputs": [],
   "source": [
    "#Merging ZMP with POI\n",
    "zmp_join = gpd.sjoin(poi, zmp, how = 'right', predicate='intersects')"
   ]
  },
  {
   "cell_type": "code",
   "execution_count": 42,
   "metadata": {},
   "outputs": [],
   "source": [
    "#Filtering not joined and with class\n",
    "zmp_poi = zmp_join[~zmp_join['POI_Class'].isnull()]\n",
    "zmp_no_poi = zmp_join[zmp_join['POI_Class'].isnull()][['ZMP_CODE','ZMP_NAME']]\n",
    "zmp_no = zmp.merge(zmp_no_poi, how = 'inner', on ='ZMP_CODE').rename(columns= {'ZMP_NAME_x':'ZMP_NAME'}).drop(columns = 'ZMP_NAME_y')"
   ]
  },
  {
   "cell_type": "code",
   "execution_count": 43,
   "metadata": {},
   "outputs": [],
   "source": [
    "#Join Nearest no poi zmp with poi\n",
    "zmp_no.to_crs(epsg = 32748, inplace = True)\n",
    "poi.to_crs(epsg = 32748, inplace = True)\n",
    "zmp_no_join = gpd.sjoin_nearest(poi, zmp_no, how = 'right')"
   ]
  },
  {
   "cell_type": "code",
   "execution_count": 44,
   "metadata": {},
   "outputs": [],
   "source": [
    "# Create ZMP Summary with POI Class\n",
    "zmp_poi_dissolve = zmp_poi.pivot_table(index = ['ZMP_CODE','ZMP_NAME', 'KECA', 'CITY_right'], values = 'Sub_Class', columns='POI_Class', aggfunc='count').reset_index().fillna(0)\n",
    "zmp_no_poi_dissolve = zmp_no_join.pivot_table(index = ['ZMP_CODE','ZMP_NAME', 'KECA', 'CITY_right'], values = 'Sub_Class', columns='POI_Class', aggfunc='count').reset_index().fillna(0)\n",
    "zmp_full = pd.concat([zmp_poi_dissolve, zmp_no_poi_dissolve])"
   ]
  },
  {
   "cell_type": "code",
   "execution_count": 45,
   "metadata": {},
   "outputs": [],
   "source": [
    "#Define zmp category function\n",
    "def category(a):\n",
    "    if a['Religion'] >=1:\n",
    "        return 'Residential or Religion'\n",
    "    elif a['School']>=1:\n",
    "        return 'Education'\n",
    "    elif a['CVS']>=1:\n",
    "        return 'Commercial'\n",
    "    elif a['Gov']>=1:\n",
    "        return 'Goverment'\n",
    "    elif a['Health Center']>=1:\n",
    "        return 'Health Center'\n",
    "    elif a['Transportation']>=1:\n",
    "        return 'Transportation'\n",
    "    else:\n",
    "        return 'Commercial'"
   ]
  },
  {
   "cell_type": "code",
   "execution_count": 46,
   "metadata": {},
   "outputs": [],
   "source": [
    "zmp_full['zmp_category'] = zmp_full[['CVS', 'Gov', 'Health Center', 'Religion', 'School',\n",
    "       'Transportation']].apply(lambda x: category(x), axis = 1)"
   ]
  },
  {
   "cell_type": "code",
   "execution_count": 47,
   "metadata": {},
   "outputs": [
    {
     "data": {
      "text/html": [
       "<div>\n",
       "<style scoped>\n",
       "    .dataframe tbody tr th:only-of-type {\n",
       "        vertical-align: middle;\n",
       "    }\n",
       "\n",
       "    .dataframe tbody tr th {\n",
       "        vertical-align: top;\n",
       "    }\n",
       "\n",
       "    .dataframe thead th {\n",
       "        text-align: right;\n",
       "    }\n",
       "</style>\n",
       "<table border=\"1\" class=\"dataframe\">\n",
       "  <thead>\n",
       "    <tr style=\"text-align: right;\">\n",
       "      <th>POI_Class</th>\n",
       "      <th>ZMP_CODE</th>\n",
       "      <th>ZMP_NAME</th>\n",
       "      <th>KECA</th>\n",
       "      <th>CITY_right</th>\n",
       "      <th>CVS</th>\n",
       "      <th>Gov</th>\n",
       "      <th>Health Center</th>\n",
       "      <th>Religion</th>\n",
       "      <th>School</th>\n",
       "      <th>Transportation</th>\n",
       "      <th>zmp_category</th>\n",
       "    </tr>\n",
       "  </thead>\n",
       "  <tbody>\n",
       "    <tr>\n",
       "      <th>0</th>\n",
       "      <td>3171010_005</td>\n",
       "      <td>ISTN Jagakarsa</td>\n",
       "      <td>Jagakarsa</td>\n",
       "      <td>Kota Jakarta Selatan</td>\n",
       "      <td>1.0</td>\n",
       "      <td>0.0</td>\n",
       "      <td>1.0</td>\n",
       "      <td>0.0</td>\n",
       "      <td>1.0</td>\n",
       "      <td>0.0</td>\n",
       "      <td>Education</td>\n",
       "    </tr>\n",
       "    <tr>\n",
       "      <th>1</th>\n",
       "      <td>3171010_008</td>\n",
       "      <td>RSU Andhika</td>\n",
       "      <td>Jagakarsa</td>\n",
       "      <td>Kota Jakarta Selatan</td>\n",
       "      <td>0.0</td>\n",
       "      <td>1.0</td>\n",
       "      <td>0.0</td>\n",
       "      <td>1.0</td>\n",
       "      <td>0.0</td>\n",
       "      <td>0.0</td>\n",
       "      <td>Residential or Religion</td>\n",
       "    </tr>\n",
       "    <tr>\n",
       "      <th>2</th>\n",
       "      <td>3171010_010</td>\n",
       "      <td>Kantor Kelurahan Cipedak</td>\n",
       "      <td>Jagakarsa</td>\n",
       "      <td>Kota Jakarta Selatan</td>\n",
       "      <td>1.0</td>\n",
       "      <td>0.0</td>\n",
       "      <td>0.0</td>\n",
       "      <td>0.0</td>\n",
       "      <td>0.0</td>\n",
       "      <td>0.0</td>\n",
       "      <td>Commercial</td>\n",
       "    </tr>\n",
       "    <tr>\n",
       "      <th>3</th>\n",
       "      <td>3171010_012</td>\n",
       "      <td>Jl. Sirsak Moch. Kahfi II</td>\n",
       "      <td>Jagakarsa</td>\n",
       "      <td>Kota Jakarta Selatan</td>\n",
       "      <td>0.0</td>\n",
       "      <td>0.0</td>\n",
       "      <td>1.0</td>\n",
       "      <td>0.0</td>\n",
       "      <td>0.0</td>\n",
       "      <td>0.0</td>\n",
       "      <td>Health Center</td>\n",
       "    </tr>\n",
       "    <tr>\n",
       "      <th>4</th>\n",
       "      <td>3171010_017</td>\n",
       "      <td>Masjid Daarul Iman Ciganjur</td>\n",
       "      <td>Jagakarsa</td>\n",
       "      <td>Kota Jakarta Selatan</td>\n",
       "      <td>1.0</td>\n",
       "      <td>0.0</td>\n",
       "      <td>0.0</td>\n",
       "      <td>0.0</td>\n",
       "      <td>0.0</td>\n",
       "      <td>0.0</td>\n",
       "      <td>Commercial</td>\n",
       "    </tr>\n",
       "  </tbody>\n",
       "</table>\n",
       "</div>"
      ],
      "text/plain": [
       "POI_Class     ZMP_CODE                     ZMP_NAME       KECA  \\\n",
       "0          3171010_005               ISTN Jagakarsa  Jagakarsa   \n",
       "1          3171010_008                  RSU Andhika  Jagakarsa   \n",
       "2          3171010_010     Kantor Kelurahan Cipedak  Jagakarsa   \n",
       "3          3171010_012    Jl. Sirsak Moch. Kahfi II  Jagakarsa   \n",
       "4          3171010_017  Masjid Daarul Iman Ciganjur  Jagakarsa   \n",
       "\n",
       "POI_Class            CITY_right  CVS  Gov  Health Center  Religion  School  \\\n",
       "0          Kota Jakarta Selatan  1.0  0.0            1.0       0.0     1.0   \n",
       "1          Kota Jakarta Selatan  0.0  1.0            0.0       1.0     0.0   \n",
       "2          Kota Jakarta Selatan  1.0  0.0            0.0       0.0     0.0   \n",
       "3          Kota Jakarta Selatan  0.0  0.0            1.0       0.0     0.0   \n",
       "4          Kota Jakarta Selatan  1.0  0.0            0.0       0.0     0.0   \n",
       "\n",
       "POI_Class  Transportation             zmp_category  \n",
       "0                     0.0                Education  \n",
       "1                     0.0  Residential or Religion  \n",
       "2                     0.0               Commercial  \n",
       "3                     0.0            Health Center  \n",
       "4                     0.0               Commercial  "
      ]
     },
     "execution_count": 47,
     "metadata": {},
     "output_type": "execute_result"
    }
   ],
   "source": [
    "zmp_full.head()"
   ]
  },
  {
   "cell_type": "code",
   "execution_count": 48,
   "metadata": {},
   "outputs": [],
   "source": [
    "#Finalizing ZMP\n",
    "zmp_final = zmp.merge(zmp_full, how ='left', on = 'ZMP_CODE').rename(columns = {'ZMP_NAME_x':'ZMP_NAME'})[['PROVINCE', 'KECAMATAN', 'CITY', 'ZMP_CODE', 'ZMP_NAME','zmp_category','geometry']]\n",
    "zmp_final.to_file(r'Z:\\Masterfile\\1. Shapefile\\8. ZMP\\zmp_masterfile.gpkg')"
   ]
  },
  {
   "attachments": {},
   "cell_type": "markdown",
   "metadata": {},
   "source": [
    "## Uploading to Google Sheets"
   ]
  },
  {
   "cell_type": "code",
   "execution_count": 49,
   "metadata": {},
   "outputs": [
    {
     "data": {
      "text/plain": [
       "<Worksheet 'zmp_category' id:156203018>"
      ]
     },
     "execution_count": 49,
     "metadata": {},
     "output_type": "execute_result"
    }
   ],
   "source": [
    "from oauth2client.service_account import ServiceAccountCredentials\n",
    "import gspread\n",
    "#Authorize the API\n",
    "scope = [\n",
    "    'https://www.googleapis.com/auth/drive',\n",
    "    'https://www.googleapis.com/auth/drive.file'\n",
    "    ]\n",
    "file_name = r'C:\\Users\\User\\OneDrive - Migo (1)\\Documents\\Migo\\Data Project\\Masterfile\\Credentials\\update-mds-d3d8ff0bb675.json'\n",
    "creds = ServiceAccountCredentials.from_json_keyfile_name(file_name,scope)\n",
    "client = gspread.authorize(creds)\n",
    "\n",
    "spreadsheetId = \"1P3mo9DnaZ9Kv3slU7AWSQCBuOJZgKPUMA5WAMhHXypY\"\n",
    "sheetId = \"156203018\"\n",
    "\n",
    "sh = client.open_by_key(spreadsheetId)\n",
    "worksheet = sh.get_worksheet(4)\n",
    "worksheet"
   ]
  },
  {
   "cell_type": "code",
   "execution_count": 50,
   "metadata": {},
   "outputs": [
    {
     "data": {
      "text/plain": [
       "{'spreadsheetId': '1P3mo9DnaZ9Kv3slU7AWSQCBuOJZgKPUMA5WAMhHXypY',\n",
       " 'updatedRange': 'zmp_category!A1:K8959',\n",
       " 'updatedRows': 8959,\n",
       " 'updatedColumns': 11,\n",
       " 'updatedCells': 98549}"
      ]
     },
     "execution_count": 50,
     "metadata": {},
     "output_type": "execute_result"
    }
   ],
   "source": [
    "worksheet.update([zmp_full.columns.values.tolist()] + zmp_full.values.tolist())"
   ]
  }
 ],
 "metadata": {
  "kernelspec": {
   "display_name": "geo_env",
   "language": "python",
   "name": "python3"
  },
  "language_info": {
   "codemirror_mode": {
    "name": "ipython",
    "version": 3
   },
   "file_extension": ".py",
   "mimetype": "text/x-python",
   "name": "python",
   "nbconvert_exporter": "python",
   "pygments_lexer": "ipython3",
   "version": "3.10.6"
  },
  "orig_nbformat": 4
 },
 "nbformat": 4,
 "nbformat_minor": 2
}
