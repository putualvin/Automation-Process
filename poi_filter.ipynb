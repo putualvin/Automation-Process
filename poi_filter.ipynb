{
 "cells": [
  {
   "cell_type": "code",
   "execution_count": 25,
   "metadata": {},
   "outputs": [],
   "source": [
    "import geopandas as gpd\n",
    "import os\n",
    "import pandas as pd"
   ]
  },
  {
   "cell_type": "code",
   "execution_count": 26,
   "metadata": {},
   "outputs": [],
   "source": [
    "#Assigning Path\n",
    "path_poi = r'Z:\\Masterfile\\1. Shapefile\\4. POI'"
   ]
  },
  {
   "cell_type": "code",
   "execution_count": 27,
   "metadata": {},
   "outputs": [],
   "source": [
    "poi = gpd.read_file(os.path.join(path_poi, 'poi_cleaned.gpkg'))"
   ]
  },
  {
   "cell_type": "code",
   "execution_count": 29,
   "metadata": {},
   "outputs": [
    {
     "data": {
      "text/plain": [
       "Index(['POI_Class', 'Sub_Class', 'POI_Name', 'PROVINCE', 'CITY', 'KECA',\n",
       "       'geometry'],\n",
       "      dtype='object')"
      ]
     },
     "execution_count": 29,
     "metadata": {},
     "output_type": "execute_result"
    }
   ],
   "source": [
    "poi.columns"
   ]
  },
  {
   "cell_type": "code",
   "execution_count": 30,
   "metadata": {},
   "outputs": [],
   "source": [
    "#Filtering POI\n",
    "non_cvs = [ 'School', 'Transportation', 'Health Center', 'Transportation', 'Gov']\n",
    "cvs_list = ['Alfamart', 'alfamart', 'alfamidi','Alfamidi', 'alfamaret', 'Alfamaret', 'Indomaret', 'indomaret', 'Indomart', 'indomart']\n",
    "poi_non_cvs = poi[poi['POI_Class'].isin(non_cvs)]\n",
    "poi_cvs = poi[poi['POI_Class']=='CVS']\n",
    "poi_cvs_filter = poi_2 = poi_cvs[poi_cvs.POI_Name.str.contains('|'.join(cvs_list),case = False, na= False)]"
   ]
  },
  {
   "cell_type": "code",
   "execution_count": null,
   "metadata": {},
   "outputs": [],
   "source": [
    "#Merging POI\n",
    "poi_priority = pd.concat([poi_cvs_filter, poi_non_cvs])\n",
    "poi_priority.to_file(r'Z:\\Masterfile\\1. Shapefile\\4. POI\\poi_priority.gpkg')"
   ]
  }
 ],
 "metadata": {
  "kernelspec": {
   "display_name": "geo_env",
   "language": "python",
   "name": "python3"
  },
  "language_info": {
   "codemirror_mode": {
    "name": "ipython",
    "version": 3
   },
   "file_extension": ".py",
   "mimetype": "text/x-python",
   "name": "python",
   "nbconvert_exporter": "python",
   "pygments_lexer": "ipython3",
   "version": "3.10.6"
  },
  "orig_nbformat": 4
 },
 "nbformat": 4,
 "nbformat_minor": 2
}
