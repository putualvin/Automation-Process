{
 "cells": [
  {
   "cell_type": "code",
   "execution_count": 11,
   "metadata": {},
   "outputs": [],
   "source": [
    "import geopandas as gpd\n",
    "import os\n",
    "import pandas as pd"
   ]
  },
  {
   "cell_type": "code",
   "execution_count": 12,
   "metadata": {},
   "outputs": [],
   "source": [
    "#Assigning Path\n",
    "path_poi = r'Z:\\Masterfile\\1. Shapefile\\4. POI'"
   ]
  },
  {
   "cell_type": "code",
   "execution_count": 13,
   "metadata": {},
   "outputs": [],
   "source": [
    "poi = gpd.read_file(os.path.join(path_poi, 'poi_cleaned.gpkg'))"
   ]
  },
  {
   "cell_type": "code",
   "execution_count": 14,
   "metadata": {},
   "outputs": [
    {
     "data": {
      "text/plain": [
       "array(['CVS', 'School', 'Community Based', 'Apartment',\n",
       "       'Traditional Market', 'Health Center', 'Eatery', 'Pariwisata',\n",
       "       'Education', 'Workshop', 'Transportation', 'Religion',\n",
       "       'Supermarket', 'Gov', 'Finance'], dtype=object)"
      ]
     },
     "execution_count": 14,
     "metadata": {},
     "output_type": "execute_result"
    }
   ],
   "source": [
    "poi.POI_Class.unique()"
   ]
  },
  {
   "cell_type": "code",
   "execution_count": 15,
   "metadata": {},
   "outputs": [],
   "source": [
    "#Filtering POI\n",
    "non_cvs = [ 'School', 'Transportation', 'Health Center', 'Transportation', 'Gov', 'Religion']\n",
    "cvs_list = ['Alfamart', 'alfamart', 'alfamidi','Alfamidi', 'alfamaret', 'Alfamaret', 'Indomaret', 'indomaret', 'Indomart', 'indomart']\n",
    "poi_non_cvs = poi[poi['POI_Class'].isin(non_cvs)]\n",
    "poi_cvs = poi[poi['POI_Class']=='CVS']\n",
    "poi_cvs_filter = poi_2 = poi_cvs[poi_cvs.POI_Name.str.contains('|'.join(cvs_list),case = False, na= False)]"
   ]
  },
  {
   "cell_type": "code",
   "execution_count": 17,
   "metadata": {},
   "outputs": [
    {
     "ename": "SyntaxError",
     "evalue": "invalid syntax (208650786.py, line 1)",
     "output_type": "error",
     "traceback": [
      "\u001b[1;36m  Cell \u001b[1;32mIn[17], line 1\u001b[1;36m\u001b[0m\n\u001b[1;33m    poi_priority.['Transportation'].unique()\u001b[0m\n\u001b[1;37m                 ^\u001b[0m\n\u001b[1;31mSyntaxError\u001b[0m\u001b[1;31m:\u001b[0m invalid syntax\n"
     ]
    }
   ],
   "source": []
  },
  {
   "cell_type": "code",
   "execution_count": 16,
   "metadata": {},
   "outputs": [],
   "source": [
    "#Merging POI\n",
    "poi_priority = pd.concat([poi_cvs_filter, poi_non_cvs])\n",
    "poi_priority.to_file(r'Z:\\Masterfile\\1. Shapefile\\4. POI\\poi_priority.gpkg')"
   ]
  }
 ],
 "metadata": {
  "kernelspec": {
   "display_name": "geo_env",
   "language": "python",
   "name": "python3"
  },
  "language_info": {
   "codemirror_mode": {
    "name": "ipython",
    "version": 3
   },
   "file_extension": ".py",
   "mimetype": "text/x-python",
   "name": "python",
   "nbconvert_exporter": "python",
   "pygments_lexer": "ipython3",
   "version": "3.10.6"
  },
  "orig_nbformat": 4
 },
 "nbformat": 4,
 "nbformat_minor": 2
}
