{
 "cells": [
  {
   "cell_type": "code",
   "execution_count": 217,
   "metadata": {},
   "outputs": [],
   "source": [
    "import pandas as pd\n",
    "import geopandas as gpd\n",
    "import os\n",
    "from oauth2client.service_account import ServiceAccountCredentials\n",
    "import gspread"
   ]
  },
  {
   "cell_type": "code",
   "execution_count": 218,
   "metadata": {},
   "outputs": [],
   "source": [
    "path_adm = r'Z:\\Masterfile\\1. Shapefile\\1. Population and Administrative Boundaries\\3. New Area'\n",
    "path_masterfile = r'C:\\Users\\User\\OneDrive - Migo (1)\\Documents\\Migo\\Data Project\\Masterfile'\n",
    "path_performance = r'Z:\\Masterfile\\3. Files\\2. Performance Q4'"
   ]
  },
  {
   "cell_type": "code",
   "execution_count": 219,
   "metadata": {},
   "outputs": [],
   "source": [
    "# Reading Files\n",
    "region = gpd.read_file(os.path.join(path_adm,'new_area.gpkg'))\n",
    "masterfile = pd.read_excel(os.path.join(path_masterfile, 'Store Score Masterfile.xlsx'), sheet_name='Masterfile New')\n",
    "performance = pd.read_excel(os.path.join(path_performance, 'Q4_Performance_alltochurned.xlsx'), sheet_name='All_Store')"
   ]
  },
  {
   "cell_type": "code",
   "execution_count": 220,
   "metadata": {},
   "outputs": [
    {
     "data": {
      "text/plain": [
       "Index(['Store ID', 'Store Name', 'Service Center', 'City', 'Kecamatan',\n",
       "       'Siting Type', 'Deployment Date', 'SME', 'Total Gross Revenue',\n",
       "       'Total Unique Watchers', 'Count Normal Month', 'Count Watchlist Month',\n",
       "       'Count Focus Month'],\n",
       "      dtype='object')"
      ]
     },
     "execution_count": 220,
     "metadata": {},
     "output_type": "execute_result"
    }
   ],
   "source": [
    "performance.columns"
   ]
  },
  {
   "cell_type": "code",
   "execution_count": 221,
   "metadata": {},
   "outputs": [
    {
     "data": {
      "text/plain": [
       "Index(['OBJECTID', 'PROVINCE', 'CITY', 'KECA', 'PCK', 'SUM_AREA', 'SUM_POP',\n",
       "       'SUM_DENSIT', 'Shape_Leng', 'Shape_Area', 'Area', 'geometry'],\n",
       "      dtype='object')"
      ]
     },
     "execution_count": 221,
     "metadata": {},
     "output_type": "execute_result"
    }
   ],
   "source": [
    "#Checking columns\n",
    "region.columns"
   ]
  },
  {
   "cell_type": "code",
   "execution_count": 222,
   "metadata": {},
   "outputs": [
    {
     "data": {
      "text/plain": [
       "Index(['Area_Wilayah', 'Nama_Toko', 'Jenis_Toko', 'Alamat', 'Lintang', 'Bujur',\n",
       "       'Kecamatan', 'City', 'Province', 'Store_ID', 'store_join2',\n",
       "       'sitting_type', 'status3', 'Store Score', 'Pitch Team',\n",
       "       'Operational Hours', 'Store Staff', 'Store Tenure Type', 'gov', 'cvs',\n",
       "       'market', 'School', 'religion', 'transport', 'health_center',\n",
       "       'future_plan_to_stay_in_month', 'store_directional_visibility',\n",
       "       'distance_between_store_and_street_in_front_of_the_store_meter',\n",
       "       'store_wide_frontage_meter', 'average_store_visitors_min',\n",
       "       'average_store_visitors_max', 'store_awning_and_sheltering',\n",
       "       'consumer_behavior', 'Since when (year)', 'Average daily visitors',\n",
       "       'ZMP', 'Since When Host Stay', 'Store Day Off',\n",
       "       'Store Remaining Contract', 'Electric', 'Pitch_Date', 'Total_Active_ID',\n",
       "       'Total_Watch_ID', 'POI CB', 'Customer_Variety', 'Customer_Type',\n",
       "       'Host_Birthday', 'Host_Age', 'new_id', 'OBJECTID', 'PROVINCE', 'CITY',\n",
       "       'KECA', 'PCK', 'SUM_AREA', 'SUM_POP', 'SUM_DENSIT', 'Shape_Leng',\n",
       "       'Shape_Area', 'Area', 'geometry'],\n",
       "      dtype='object')"
      ]
     },
     "execution_count": 222,
     "metadata": {},
     "output_type": "execute_result"
    }
   ],
   "source": [
    "# Join masterfile with region\n",
    "region['new_id'] = region['CITY'].str.lower().str.strip() +\" \"+region['KECA'].str.lower().str.strip().str.replace(\" \",\"\")\n",
    "masterfile['new_id'] = masterfile['City'].str.lower().str.strip() + \" \"+ masterfile['Kecamatan'].str.lower().str.strip().str.replace(\" \",\"\")\n",
    "masterfile_join = masterfile.merge(region, how ='left', on = 'new_id')\n",
    "masterfile_join.columns"
   ]
  },
  {
   "cell_type": "code",
   "execution_count": 223,
   "metadata": {},
   "outputs": [],
   "source": [
    "#Join masterfile join with performance\n",
    "masterfile_join_2 = masterfile_join.merge(performance, how ='left',left_on = 'Store_ID', right_on = 'Store ID')\n",
    "masterfile_join_2 = masterfile_join_2.rename(columns={'Total Gross Revenue':'gr_q4', 'Total Unique Watchers':'watchers_q4',\n",
    "                                                      'Kecamatan_x':'Kecamatan', 'City_x' :'City', 'SUM_POP': 'population',\n",
    "                                                      'status3':'status'})"
   ]
  },
  {
   "cell_type": "code",
   "execution_count": 224,
   "metadata": {},
   "outputs": [],
   "source": [
    "#Preparing Masterfile to Update\n",
    "masterfile_join_2 = masterfile_join_2[['Area_Wilayah','Store_ID', 'Nama_Toko','Lintang', 'Bujur', 'Kecamatan', 'City', 'Province',\n",
    "                         'status','new_id','sitting_type', 'population','gr_q4', 'watchers_q4','Area']]\n",
    "masterfile_join_2 = masterfile_join_2.fillna(0)\n",
    "masterfile_join_2 = masterfile_join_2[masterfile_join_2['Store_ID']!=0]\n",
    "masterfile_join_2 = masterfile_join_2.fillna(0)"
   ]
  },
  {
   "attachments": {},
   "cell_type": "markdown",
   "metadata": {},
   "source": [
    "# Updating to Google Sheets"
   ]
  },
  {
   "cell_type": "code",
   "execution_count": 225,
   "metadata": {},
   "outputs": [
    {
     "data": {
      "text/plain": [
       "{'spreadsheetId': '1P3mo9DnaZ9Kv3slU7AWSQCBuOJZgKPUMA5WAMhHXypY',\n",
       " 'clearedRange': 'store_masterfile!A1:N13892'}"
      ]
     },
     "execution_count": 225,
     "metadata": {},
     "output_type": "execute_result"
    }
   ],
   "source": [
    "#Reading from\n",
    "spreadsheetId = \"1P3mo9DnaZ9Kv3slU7AWSQCBuOJZgKPUMA5WAMhHXypY\"\n",
    "sheetId = \"1821994154\"\n",
    "\n",
    "sh = client.open_by_key(spreadsheetId)\n",
    "worksheet = sh.get_worksheet(2)\n",
    "worksheet.clear()"
   ]
  },
  {
   "cell_type": "code",
   "execution_count": 226,
   "metadata": {},
   "outputs": [
    {
     "data": {
      "text/plain": [
       "{'spreadsheetId': '1P3mo9DnaZ9Kv3slU7AWSQCBuOJZgKPUMA5WAMhHXypY',\n",
       " 'updatedRange': 'store_masterfile!A1:O2634',\n",
       " 'updatedRows': 2634,\n",
       " 'updatedColumns': 15,\n",
       " 'updatedCells': 39510}"
      ]
     },
     "execution_count": 226,
     "metadata": {},
     "output_type": "execute_result"
    }
   ],
   "source": [
    "worksheet.update([masterfile_join_2.columns.values.tolist()] + masterfile_join_2.values.tolist())"
   ]
  }
 ],
 "metadata": {
  "kernelspec": {
   "display_name": "geo_env",
   "language": "python",
   "name": "python3"
  },
  "language_info": {
   "codemirror_mode": {
    "name": "ipython",
    "version": 3
   },
   "file_extension": ".py",
   "mimetype": "text/x-python",
   "name": "python",
   "nbconvert_exporter": "python",
   "pygments_lexer": "ipython3",
   "version": "3.10.6"
  },
  "orig_nbformat": 4
 },
 "nbformat": 4,
 "nbformat_minor": 2
}
