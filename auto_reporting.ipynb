{
 "cells": [
  {
   "cell_type": "code",
   "execution_count": 64,
   "metadata": {},
   "outputs": [],
   "source": [
    "import pandas as pd\n",
    "import geopandas as gpd\n",
    "import os\n",
    "from oauth2client.service_account import ServiceAccountCredentials\n",
    "import gspread"
   ]
  },
  {
   "attachments": {},
   "cell_type": "markdown",
   "metadata": {},
   "source": [
    "## Opening Performance Data"
   ]
  },
  {
   "cell_type": "code",
   "execution_count": 65,
   "metadata": {},
   "outputs": [],
   "source": [
    "#Authorize the API\n",
    "scope = [\n",
    "    'https://www.googleapis.com/auth/drive',\n",
    "    'https://www.googleapis.com/auth/drive.file'\n",
    "    ]\n",
    "file_name = r'C:\\Users\\User\\OneDrive - Migo (1)\\Documents\\Migo\\Data Project\\Masterfile\\Credentials\\update-mds-d3d8ff0bb675.json'\n",
    "creds = ServiceAccountCredentials.from_json_keyfile_name(file_name,scope)\n",
    "client = gspread.authorize(creds)"
   ]
  },
  {
   "cell_type": "code",
   "execution_count": 66,
   "metadata": {},
   "outputs": [
    {
     "data": {
      "text/html": [
       "<div>\n",
       "<style scoped>\n",
       "    .dataframe tbody tr th:only-of-type {\n",
       "        vertical-align: middle;\n",
       "    }\n",
       "\n",
       "    .dataframe tbody tr th {\n",
       "        vertical-align: top;\n",
       "    }\n",
       "\n",
       "    .dataframe thead th {\n",
       "        text-align: right;\n",
       "    }\n",
       "</style>\n",
       "<table border=\"1\" class=\"dataframe\">\n",
       "  <thead>\n",
       "    <tr style=\"text-align: right;\">\n",
       "      <th></th>\n",
       "      <th>calendar_month_utc7</th>\n",
       "      <th>store_id</th>\n",
       "      <th>store_name</th>\n",
       "      <th>watchers_all_time_first</th>\n",
       "      <th>watchers_monthly_first</th>\n",
       "      <th>watchers_quarterly_first</th>\n",
       "      <th>gross_revenue</th>\n",
       "    </tr>\n",
       "  </thead>\n",
       "  <tbody>\n",
       "    <tr>\n",
       "      <th>0</th>\n",
       "      <td>2022-02-01</td>\n",
       "      <td>C01203</td>\n",
       "      <td>Kedai Om Dedz Rica</td>\n",
       "      <td>633</td>\n",
       "      <td>634</td>\n",
       "      <td>633</td>\n",
       "      <td>60214000</td>\n",
       "    </tr>\n",
       "    <tr>\n",
       "      <th>1</th>\n",
       "      <td>2022-03-01</td>\n",
       "      <td>C01203</td>\n",
       "      <td>Kedai Om Dedz Rica</td>\n",
       "      <td>1748</td>\n",
       "      <td>1749</td>\n",
       "      <td>1748</td>\n",
       "      <td>67290000</td>\n",
       "    </tr>\n",
       "    <tr>\n",
       "      <th>2</th>\n",
       "      <td>2022-06-01</td>\n",
       "      <td>C00905</td>\n",
       "      <td>Warteg Jaya Ampera 76</td>\n",
       "      <td>871</td>\n",
       "      <td>878</td>\n",
       "      <td>871</td>\n",
       "      <td>27225000</td>\n",
       "    </tr>\n",
       "    <tr>\n",
       "      <th>3</th>\n",
       "      <td>2022-02-01</td>\n",
       "      <td>C01519</td>\n",
       "      <td>Krajan Cell</td>\n",
       "      <td>375</td>\n",
       "      <td>380</td>\n",
       "      <td>377</td>\n",
       "      <td>11436000</td>\n",
       "    </tr>\n",
       "    <tr>\n",
       "      <th>4</th>\n",
       "      <td>2022-03-01</td>\n",
       "      <td>C01000</td>\n",
       "      <td>Kedai Wenaks</td>\n",
       "      <td>272</td>\n",
       "      <td>301</td>\n",
       "      <td>272</td>\n",
       "      <td>8530000</td>\n",
       "    </tr>\n",
       "    <tr>\n",
       "      <th>...</th>\n",
       "      <td>...</td>\n",
       "      <td>...</td>\n",
       "      <td>...</td>\n",
       "      <td>...</td>\n",
       "      <td>...</td>\n",
       "      <td>...</td>\n",
       "      <td>...</td>\n",
       "    </tr>\n",
       "    <tr>\n",
       "      <th>30502</th>\n",
       "      <td>2023-02-01</td>\n",
       "      <td>C02425</td>\n",
       "      <td>The Blues Cell</td>\n",
       "      <td>0</td>\n",
       "      <td>0</td>\n",
       "      <td>0</td>\n",
       "      <td>0</td>\n",
       "    </tr>\n",
       "    <tr>\n",
       "      <th>30503</th>\n",
       "      <td>2023-02-01</td>\n",
       "      <td>C03094</td>\n",
       "      <td>Abot Cell</td>\n",
       "      <td>0</td>\n",
       "      <td>0</td>\n",
       "      <td>0</td>\n",
       "      <td>0</td>\n",
       "    </tr>\n",
       "    <tr>\n",
       "      <th>30504</th>\n",
       "      <td>2023-02-01</td>\n",
       "      <td>C03098</td>\n",
       "      <td>DD Cell</td>\n",
       "      <td>0</td>\n",
       "      <td>0</td>\n",
       "      <td>0</td>\n",
       "      <td>0</td>\n",
       "    </tr>\n",
       "    <tr>\n",
       "      <th>30505</th>\n",
       "      <td>2023-01-01</td>\n",
       "      <td>C02476</td>\n",
       "      <td>Novi Cake Dukupuntang</td>\n",
       "      <td>0</td>\n",
       "      <td>0</td>\n",
       "      <td>0</td>\n",
       "      <td>0</td>\n",
       "    </tr>\n",
       "    <tr>\n",
       "      <th>30506</th>\n",
       "      <td>2022-09-01</td>\n",
       "      <td>C02233</td>\n",
       "      <td>Tahu Sumedang</td>\n",
       "      <td>0</td>\n",
       "      <td>0</td>\n",
       "      <td>0</td>\n",
       "      <td>0</td>\n",
       "    </tr>\n",
       "  </tbody>\n",
       "</table>\n",
       "<p>30507 rows × 7 columns</p>\n",
       "</div>"
      ],
      "text/plain": [
       "      calendar_month_utc7 store_id             store_name  \\\n",
       "0              2022-02-01   C01203     Kedai Om Dedz Rica   \n",
       "1              2022-03-01   C01203     Kedai Om Dedz Rica   \n",
       "2              2022-06-01   C00905  Warteg Jaya Ampera 76   \n",
       "3              2022-02-01   C01519            Krajan Cell   \n",
       "4              2022-03-01   C01000           Kedai Wenaks   \n",
       "...                   ...      ...                    ...   \n",
       "30502          2023-02-01   C02425         The Blues Cell   \n",
       "30503          2023-02-01   C03094              Abot Cell   \n",
       "30504          2023-02-01   C03098                DD Cell   \n",
       "30505          2023-01-01   C02476  Novi Cake Dukupuntang   \n",
       "30506          2022-09-01   C02233          Tahu Sumedang   \n",
       "\n",
       "       watchers_all_time_first  watchers_monthly_first  \\\n",
       "0                          633                     634   \n",
       "1                         1748                    1749   \n",
       "2                          871                     878   \n",
       "3                          375                     380   \n",
       "4                          272                     301   \n",
       "...                        ...                     ...   \n",
       "30502                        0                       0   \n",
       "30503                        0                       0   \n",
       "30504                        0                       0   \n",
       "30505                        0                       0   \n",
       "30506                        0                       0   \n",
       "\n",
       "       watchers_quarterly_first  gross_revenue  \n",
       "0                           633       60214000  \n",
       "1                          1748       67290000  \n",
       "2                           871       27225000  \n",
       "3                           377       11436000  \n",
       "4                           272        8530000  \n",
       "...                         ...            ...  \n",
       "30502                         0              0  \n",
       "30503                         0              0  \n",
       "30504                         0              0  \n",
       "30505                         0              0  \n",
       "30506                         0              0  \n",
       "\n",
       "[30507 rows x 7 columns]"
      ]
     },
     "execution_count": 66,
     "metadata": {},
     "output_type": "execute_result"
    }
   ],
   "source": [
    "# get the instance of the Spreadsheet\n",
    "sheet = client.open('Wargo Monthly Performance')\n",
    "\n",
    "# get the first sheet of the Spreadsheet\n",
    "sheet_instance = sheet.get_worksheet(0)\n",
    "\n",
    "# get all the records of the data\n",
    "records_data = sheet_instance.get_all_records()\n",
    "performance = pd.DataFrame.from_dict(records_data)\n",
    "performance"
   ]
  },
  {
   "cell_type": "code",
   "execution_count": 67,
   "metadata": {},
   "outputs": [],
   "source": [
    "#Pivot performance\n",
    "performance_pivot = performance.pivot_table(index='store_id', values=['watchers_all_time_first','watchers_monthly_first','watchers_quarterly_first','gross_revenue'],\n",
    "                                            aggfunc={'watchers_all_time_first':'sum',\n",
    "                                                     'watchers_monthly_first':'sum',\n",
    "                                                     'watchers_quarterly_first':'sum',\n",
    "                                                     'gross_revenue':'sum'}).reset_index()"
   ]
  },
  {
   "attachments": {},
   "cell_type": "markdown",
   "metadata": {},
   "source": [
    "## Preprocessing"
   ]
  },
  {
   "cell_type": "code",
   "execution_count": 68,
   "metadata": {},
   "outputs": [],
   "source": [
    "#Assigning Paths\n",
    "path_adm = r'Z:\\Masterfile\\1. Shapefile\\1. Population and Administrative Boundaries\\3. New Area'\n",
    "path_masterfile = r'C:\\Users\\User\\OneDrive - Migo (1)\\Documents\\Migo\\Data Project\\Masterfile'\n",
    "path_zmp = r'Z:\\Masterfile\\1. Shapefile\\8. ZMP'"
   ]
  },
  {
   "cell_type": "code",
   "execution_count": 69,
   "metadata": {},
   "outputs": [],
   "source": [
    "# Reading Files\n",
    "region = gpd.read_file(os.path.join(path_adm,'new_area.gpkg'))\n",
    "masterfile = pd.read_excel(os.path.join(path_masterfile, 'Store Score Masterfile.xlsx'), sheet_name='Masterfile New')\n",
    "masterfile['area_lookup'] = masterfile['Area_Wilayah'].str.lower().str.replace(\" \",\"\").str.strip()\n",
    "zmp = gpd.read_file(os.path.join(path_zmp, 'zmp_masterfile.gpkg'))\n",
    "zmp = zmp[['ZMP_NAME', 'zmp_category']]\n",
    "zmp['ZMP_NAME'] = zmp['ZMP_NAME'].str.lower().str.replace(\" \",\"\").str.strip()"
   ]
  },
  {
   "cell_type": "code",
   "execution_count": 76,
   "metadata": {},
   "outputs": [
    {
     "data": {
      "text/html": [
       "<div>\n",
       "<style scoped>\n",
       "    .dataframe tbody tr th:only-of-type {\n",
       "        vertical-align: middle;\n",
       "    }\n",
       "\n",
       "    .dataframe tbody tr th {\n",
       "        vertical-align: top;\n",
       "    }\n",
       "\n",
       "    .dataframe thead th {\n",
       "        text-align: right;\n",
       "    }\n",
       "</style>\n",
       "<table border=\"1\" class=\"dataframe\">\n",
       "  <thead>\n",
       "    <tr style=\"text-align: right;\">\n",
       "      <th></th>\n",
       "      <th>ZMP_NAME</th>\n",
       "      <th>zmp_category</th>\n",
       "    </tr>\n",
       "  </thead>\n",
       "  <tbody>\n",
       "    <tr>\n",
       "      <th>3766</th>\n",
       "      <td>pasarsawotanjunglengkong</td>\n",
       "      <td>None</td>\n",
       "    </tr>\n",
       "  </tbody>\n",
       "</table>\n",
       "</div>"
      ],
      "text/plain": [
       "                      ZMP_NAME zmp_category\n",
       "3766  pasarsawotanjunglengkong         None"
      ]
     },
     "execution_count": 76,
     "metadata": {},
     "output_type": "execute_result"
    }
   ],
   "source": [
    "zmp[zmp.ZMP_NAME == r'pasarsawotanjunglengkong']"
   ]
  },
  {
   "cell_type": "code",
   "execution_count": 70,
   "metadata": {},
   "outputs": [
    {
     "data": {
      "text/plain": [
       "Index(['OBJECTID', 'PROVINCE', 'CITY', 'KECA', 'PCK', 'SUM_AREA', 'SUM_POP',\n",
       "       'SUM_DENSIT', 'Shape_Leng', 'Shape_Area', 'Area', 'geometry'],\n",
       "      dtype='object')"
      ]
     },
     "execution_count": 70,
     "metadata": {},
     "output_type": "execute_result"
    }
   ],
   "source": [
    "#Checking columns\n",
    "region.columns"
   ]
  },
  {
   "attachments": {},
   "cell_type": "markdown",
   "metadata": {},
   "source": [
    "### Join Masterfile with Region, Performance , and ZMP"
   ]
  },
  {
   "cell_type": "code",
   "execution_count": 71,
   "metadata": {},
   "outputs": [],
   "source": [
    "# Join masterfile with region\n",
    "region['new_id'] = region['CITY'].str.lower().str.strip() +\" \"+region['KECA'].str.lower().str.strip().str.replace(\" \",\"\")\n",
    "masterfile['new_id'] = masterfile['City'].str.lower().str.strip() + \" \"+ masterfile['Kecamatan'].str.lower().str.strip().str.replace(\" \",\"\")\n",
    "masterfile_join = masterfile.merge(region, how ='left', on = 'new_id').merge(performance_pivot, how ='left',left_on = 'Store_ID', right_on = 'store_id')\\\n",
    ".merge(zmp, how = 'left', left_on = 'area_lookup', right_on = 'ZMP_NAME')\n",
    "masterfile_join = masterfile_join.rename(columns={\n",
    "                                                      'Kecamatan_x':'Kecamatan', 'City_x' :'City', 'SUM_POP': 'population',\n",
    "                                                      'status3':'status'})"
   ]
  },
  {
   "cell_type": "code",
   "execution_count": 72,
   "metadata": {},
   "outputs": [],
   "source": [
    "#Preparing Masterfile to Update\n",
    "masterfile_join = masterfile_join[['Area_Wilayah','Store_ID', 'Nama_Toko','Lintang', 'Bujur', 'Kecamatan', 'City', 'Province',\n",
    "                         'status','new_id','sitting_type', 'population','gross_revenue', 'watchers_all_time_first','watchers_monthly_first','watchers_quarterly_first','zmp_category','Area']]\n",
    "masterfile_join = masterfile_join.fillna(0)\n",
    "masterfile_join = masterfile_join[masterfile_join['Store_ID']!=0]\n",
    "masterfile_join = masterfile_join.fillna(0)"
   ]
  },
  {
   "attachments": {},
   "cell_type": "markdown",
   "metadata": {},
   "source": [
    "# Updating to Google Sheets"
   ]
  },
  {
   "cell_type": "code",
   "execution_count": 73,
   "metadata": {},
   "outputs": [
    {
     "data": {
      "text/plain": [
       "{'spreadsheetId': '1P3mo9DnaZ9Kv3slU7AWSQCBuOJZgKPUMA5WAMhHXypY',\n",
       " 'clearedRange': 'store_masterfile!A1:R13892'}"
      ]
     },
     "execution_count": 73,
     "metadata": {},
     "output_type": "execute_result"
    }
   ],
   "source": [
    "#Reading from\n",
    "spreadsheetId = \"1P3mo9DnaZ9Kv3slU7AWSQCBuOJZgKPUMA5WAMhHXypY\"\n",
    "sheetId = \"1821994154\"\n",
    "\n",
    "sh = client.open_by_key(spreadsheetId)\n",
    "worksheet = sh.get_worksheet(2)\n",
    "worksheet.clear()"
   ]
  },
  {
   "cell_type": "code",
   "execution_count": 74,
   "metadata": {},
   "outputs": [
    {
     "data": {
      "text/plain": [
       "{'spreadsheetId': '1P3mo9DnaZ9Kv3slU7AWSQCBuOJZgKPUMA5WAMhHXypY',\n",
       " 'updatedRange': 'store_masterfile!A1:R2698',\n",
       " 'updatedRows': 2698,\n",
       " 'updatedColumns': 18,\n",
       " 'updatedCells': 48564}"
      ]
     },
     "execution_count": 74,
     "metadata": {},
     "output_type": "execute_result"
    }
   ],
   "source": [
    "worksheet.update([masterfile_join.columns.values.tolist()] + masterfile_join.values.tolist())"
   ]
  }
 ],
 "metadata": {
  "kernelspec": {
   "display_name": "geo_env",
   "language": "python",
   "name": "python3"
  },
  "language_info": {
   "codemirror_mode": {
    "name": "ipython",
    "version": 3
   },
   "file_extension": ".py",
   "mimetype": "text/x-python",
   "name": "python",
   "nbconvert_exporter": "python",
   "pygments_lexer": "ipython3",
   "version": "3.10.6"
  },
  "orig_nbformat": 4
 },
 "nbformat": 4,
 "nbformat_minor": 2
}
